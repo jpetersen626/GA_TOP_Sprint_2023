{
 "cells": [
  {
   "cell_type": "markdown",
   "id": "c728bed7-3e52-446f-a854-e7303e751fea",
   "metadata": {},
   "source": [
    "# Social Vulnerability Data"
   ]
  },
  {
   "cell_type": "markdown",
   "id": "136fd032-2d05-48a7-add3-084b9743645c",
   "metadata": {},
   "source": [
    "## Quick EDA and Modeling to Determine What Features Stick Out for Importance"
   ]
  },
  {
   "cell_type": "code",
   "execution_count": 1,
   "id": "c7fa9ef8-a968-4ce0-a15b-8f7e1311c4ee",
   "metadata": {},
   "outputs": [],
   "source": [
    "import pandas as pd\n",
    "import numpy as np\n",
    "import matplotlib.pyplot as plt\n",
    "import seaborn as sns"
   ]
  },
  {
   "cell_type": "code",
   "execution_count": 4,
   "id": "e7feea62-75d9-456a-85b1-a11f9c1418ba",
   "metadata": {},
   "outputs": [],
   "source": [
    "df = pd.read_csv('../data/social_vulnerability/SVI2020_US.csv')"
   ]
  },
  {
   "cell_type": "code",
   "execution_count": 5,
   "id": "8dcfcafa-ed1e-4aa2-94a0-19f9a1e29e0d",
   "metadata": {},
   "outputs": [
    {
     "data": {
      "text/html": [
       "<div>\n",
       "<style scoped>\n",
       "    .dataframe tbody tr th:only-of-type {\n",
       "        vertical-align: middle;\n",
       "    }\n",
       "\n",
       "    .dataframe tbody tr th {\n",
       "        vertical-align: top;\n",
       "    }\n",
       "\n",
       "    .dataframe thead th {\n",
       "        text-align: right;\n",
       "    }\n",
       "</style>\n",
       "<table border=\"1\" class=\"dataframe\">\n",
       "  <thead>\n",
       "    <tr style=\"text-align: right;\">\n",
       "      <th></th>\n",
       "      <th>ST</th>\n",
       "      <th>STATE</th>\n",
       "      <th>ST_ABBR</th>\n",
       "      <th>STCNTY</th>\n",
       "      <th>COUNTY</th>\n",
       "      <th>FIPS</th>\n",
       "      <th>LOCATION</th>\n",
       "      <th>AREA_SQMI</th>\n",
       "      <th>E_TOTPOP</th>\n",
       "      <th>M_TOTPOP</th>\n",
       "      <th>...</th>\n",
       "      <th>EP_ASIAN</th>\n",
       "      <th>MP_ASIAN</th>\n",
       "      <th>EP_AIAN</th>\n",
       "      <th>MP_AIAN</th>\n",
       "      <th>EP_NHPI</th>\n",
       "      <th>MP_NHPI</th>\n",
       "      <th>EP_TWOMORE</th>\n",
       "      <th>MP_TWOMORE</th>\n",
       "      <th>EP_OTHERRACE</th>\n",
       "      <th>MP_OTHERRACE</th>\n",
       "    </tr>\n",
       "  </thead>\n",
       "  <tbody>\n",
       "    <tr>\n",
       "      <th>0</th>\n",
       "      <td>1</td>\n",
       "      <td>Alabama</td>\n",
       "      <td>AL</td>\n",
       "      <td>1001</td>\n",
       "      <td>Autauga</td>\n",
       "      <td>1001020100</td>\n",
       "      <td>Census Tract 201, Autauga County, Alabama</td>\n",
       "      <td>3.793570</td>\n",
       "      <td>1941</td>\n",
       "      <td>390</td>\n",
       "      <td>...</td>\n",
       "      <td>2.1</td>\n",
       "      <td>2.7</td>\n",
       "      <td>0.0</td>\n",
       "      <td>1.8</td>\n",
       "      <td>0.0</td>\n",
       "      <td>1.8</td>\n",
       "      <td>6.6</td>\n",
       "      <td>5.1</td>\n",
       "      <td>0.0</td>\n",
       "      <td>1.8</td>\n",
       "    </tr>\n",
       "    <tr>\n",
       "      <th>1</th>\n",
       "      <td>1</td>\n",
       "      <td>Alabama</td>\n",
       "      <td>AL</td>\n",
       "      <td>1001</td>\n",
       "      <td>Autauga</td>\n",
       "      <td>1001020200</td>\n",
       "      <td>Census Tract 202, Autauga County, Alabama</td>\n",
       "      <td>1.282174</td>\n",
       "      <td>1757</td>\n",
       "      <td>310</td>\n",
       "      <td>...</td>\n",
       "      <td>0.0</td>\n",
       "      <td>2.0</td>\n",
       "      <td>0.0</td>\n",
       "      <td>2.0</td>\n",
       "      <td>0.0</td>\n",
       "      <td>2.0</td>\n",
       "      <td>2.6</td>\n",
       "      <td>3.0</td>\n",
       "      <td>0.8</td>\n",
       "      <td>1.1</td>\n",
       "    </tr>\n",
       "    <tr>\n",
       "      <th>2</th>\n",
       "      <td>1</td>\n",
       "      <td>Alabama</td>\n",
       "      <td>AL</td>\n",
       "      <td>1001</td>\n",
       "      <td>Autauga</td>\n",
       "      <td>1001020300</td>\n",
       "      <td>Census Tract 203, Autauga County, Alabama</td>\n",
       "      <td>2.065364</td>\n",
       "      <td>3694</td>\n",
       "      <td>570</td>\n",
       "      <td>...</td>\n",
       "      <td>1.2</td>\n",
       "      <td>1.1</td>\n",
       "      <td>0.0</td>\n",
       "      <td>0.9</td>\n",
       "      <td>0.0</td>\n",
       "      <td>0.9</td>\n",
       "      <td>1.8</td>\n",
       "      <td>2.3</td>\n",
       "      <td>0.0</td>\n",
       "      <td>0.9</td>\n",
       "    </tr>\n",
       "    <tr>\n",
       "      <th>3</th>\n",
       "      <td>1</td>\n",
       "      <td>Alabama</td>\n",
       "      <td>AL</td>\n",
       "      <td>1001</td>\n",
       "      <td>Autauga</td>\n",
       "      <td>1001020400</td>\n",
       "      <td>Census Tract 204, Autauga County, Alabama</td>\n",
       "      <td>2.464984</td>\n",
       "      <td>3539</td>\n",
       "      <td>500</td>\n",
       "      <td>...</td>\n",
       "      <td>0.5</td>\n",
       "      <td>0.6</td>\n",
       "      <td>0.3</td>\n",
       "      <td>0.5</td>\n",
       "      <td>0.0</td>\n",
       "      <td>1.0</td>\n",
       "      <td>2.9</td>\n",
       "      <td>2.8</td>\n",
       "      <td>0.0</td>\n",
       "      <td>1.0</td>\n",
       "    </tr>\n",
       "    <tr>\n",
       "      <th>4</th>\n",
       "      <td>1</td>\n",
       "      <td>Alabama</td>\n",
       "      <td>AL</td>\n",
       "      <td>1001</td>\n",
       "      <td>Autauga</td>\n",
       "      <td>1001020501</td>\n",
       "      <td>Census Tract 205.01, Autauga County, Alabama</td>\n",
       "      <td>2.395243</td>\n",
       "      <td>4306</td>\n",
       "      <td>662</td>\n",
       "      <td>...</td>\n",
       "      <td>1.9</td>\n",
       "      <td>2.0</td>\n",
       "      <td>0.0</td>\n",
       "      <td>0.8</td>\n",
       "      <td>0.0</td>\n",
       "      <td>0.8</td>\n",
       "      <td>0.3</td>\n",
       "      <td>0.6</td>\n",
       "      <td>0.0</td>\n",
       "      <td>0.8</td>\n",
       "    </tr>\n",
       "  </tbody>\n",
       "</table>\n",
       "<p>5 rows × 158 columns</p>\n",
       "</div>"
      ],
      "text/plain": [
       "   ST    STATE ST_ABBR  STCNTY   COUNTY        FIPS  \\\n",
       "0   1  Alabama      AL    1001  Autauga  1001020100   \n",
       "1   1  Alabama      AL    1001  Autauga  1001020200   \n",
       "2   1  Alabama      AL    1001  Autauga  1001020300   \n",
       "3   1  Alabama      AL    1001  Autauga  1001020400   \n",
       "4   1  Alabama      AL    1001  Autauga  1001020501   \n",
       "\n",
       "                                       LOCATION  AREA_SQMI  E_TOTPOP  \\\n",
       "0     Census Tract 201, Autauga County, Alabama   3.793570      1941   \n",
       "1     Census Tract 202, Autauga County, Alabama   1.282174      1757   \n",
       "2     Census Tract 203, Autauga County, Alabama   2.065364      3694   \n",
       "3     Census Tract 204, Autauga County, Alabama   2.464984      3539   \n",
       "4  Census Tract 205.01, Autauga County, Alabama   2.395243      4306   \n",
       "\n",
       "   M_TOTPOP  ...  EP_ASIAN  MP_ASIAN  EP_AIAN  MP_AIAN  EP_NHPI  MP_NHPI  \\\n",
       "0       390  ...       2.1       2.7      0.0      1.8      0.0      1.8   \n",
       "1       310  ...       0.0       2.0      0.0      2.0      0.0      2.0   \n",
       "2       570  ...       1.2       1.1      0.0      0.9      0.0      0.9   \n",
       "3       500  ...       0.5       0.6      0.3      0.5      0.0      1.0   \n",
       "4       662  ...       1.9       2.0      0.0      0.8      0.0      0.8   \n",
       "\n",
       "   EP_TWOMORE  MP_TWOMORE  EP_OTHERRACE  MP_OTHERRACE  \n",
       "0         6.6         5.1           0.0           1.8  \n",
       "1         2.6         3.0           0.8           1.1  \n",
       "2         1.8         2.3           0.0           0.9  \n",
       "3         2.9         2.8           0.0           1.0  \n",
       "4         0.3         0.6           0.0           0.8  \n",
       "\n",
       "[5 rows x 158 columns]"
      ]
     },
     "execution_count": 5,
     "metadata": {},
     "output_type": "execute_result"
    }
   ],
   "source": [
    "df.head()"
   ]
  },
  {
   "cell_type": "code",
   "execution_count": 10,
   "id": "b2b0720b-a33b-401b-ad2f-5666dd61c4a7",
   "metadata": {},
   "outputs": [
    {
     "name": "stdout",
     "output_type": "stream",
     "text": [
      "Requirement already satisfied: pandas in c:\\users\\jacki\\anaconda3\\lib\\site-packages (1.4.4)\n",
      "Collecting pandas\n",
      "  Downloading pandas-2.0.2-cp39-cp39-win_amd64.whl (10.7 MB)\n",
      "     --------------------------------------- 10.7/10.7 MB 10.4 MB/s eta 0:00:00\n",
      "Requirement already satisfied: python-dateutil>=2.8.2 in c:\\users\\jacki\\anaconda3\\lib\\site-packages (from pandas) (2.8.2)\n",
      "Requirement already satisfied: pytz>=2020.1 in c:\\users\\jacki\\anaconda3\\lib\\site-packages (from pandas) (2021.3)\n",
      "Requirement already satisfied: tzdata>=2022.1 in c:\\users\\jacki\\anaconda3\\lib\\site-packages (from pandas) (2022.1)\n",
      "Requirement already satisfied: numpy>=1.20.3 in c:\\users\\jacki\\anaconda3\\lib\\site-packages (from pandas) (1.20.3)\n",
      "Requirement already satisfied: six>=1.5 in c:\\users\\jacki\\anaconda3\\lib\\site-packages (from python-dateutil>=2.8.2->pandas) (1.16.0)\n",
      "Installing collected packages: pandas\n",
      "  Attempting uninstall: pandas\n",
      "    Found existing installation: pandas 1.4.4\n",
      "    Uninstalling pandas-1.4.4:\n",
      "      Successfully uninstalled pandas-1.4.4\n",
      "Successfully installed pandas-2.0.0\n"
     ]
    }
   ],
   "source": [
    "!pip install -U pandas"
   ]
  },
  {
   "cell_type": "code",
   "execution_count": 15,
   "id": "f7cca8c7-f3a0-420e-abdc-1085cbb4a821",
   "metadata": {},
   "outputs": [
    {
     "name": "stdout",
     "output_type": "stream",
     "text": [
      "1.4.4\n"
     ]
    }
   ],
   "source": [
    "print(pd.__version__)"
   ]
  },
  {
   "cell_type": "code",
   "execution_count": 13,
   "id": "f0519e08-3c22-40a7-b80c-201d17c8fd0f",
   "metadata": {},
   "outputs": [
    {
     "name": "stdout",
     "output_type": "stream",
     "text": [
      "<class 'pandas.core.frame.DataFrame'>\n",
      "RangeIndex: 84122 entries, 0 to 84121\n",
      "Columns: 158 entries, ST to MP_OTHERRACE\n",
      "dtypes: float64(75), int64(79), object(4)\n",
      "memory usage: 101.4+ MB\n"
     ]
    }
   ],
   "source": [
    "df.info()"
   ]
  },
  {
   "cell_type": "code",
   "execution_count": null,
   "id": "e250635b-5b70-4842-917d-2623c4272469",
   "metadata": {},
   "outputs": [],
   "source": []
  }
 ],
 "metadata": {
  "kernelspec": {
   "display_name": "Python 3 (ipykernel)",
   "language": "python",
   "name": "python3"
  },
  "language_info": {
   "codemirror_mode": {
    "name": "ipython",
    "version": 3
   },
   "file_extension": ".py",
   "mimetype": "text/x-python",
   "name": "python",
   "nbconvert_exporter": "python",
   "pygments_lexer": "ipython3",
   "version": "3.9.7"
  }
 },
 "nbformat": 4,
 "nbformat_minor": 5
}
